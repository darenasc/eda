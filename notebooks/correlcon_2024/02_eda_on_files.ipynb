{
  "cells": [
    {
      "cell_type": "markdown",
      "metadata": {},
      "source": [
        "[auto-fes notebook in Colab](https://colab.research.google.com/drive/1gVACEkE0hLD471-g0MyBDPgTyLE-Sw1D#scrollTo=8PSBzNCJS4Bc)"
      ]
    },
    {
      "cell_type": "markdown",
      "metadata": {
        "id": "pipA_M79XY2g"
      },
      "source": [
        "# Installation"
      ]
    },
    {
      "cell_type": "code",
      "execution_count": null,
      "metadata": {
        "id": "8PSBzNCJS4Bc"
      },
      "outputs": [],
      "source": [
        "# !pip install -q ydata_profiling sweetviz\n",
        "# !pip install -q ucimlrepo\n",
        "# !pip install -q git+https://github.com/darenasc/auto-fes.git"
      ]
    },
    {
      "cell_type": "code",
      "execution_count": 2,
      "metadata": {},
      "outputs": [],
      "source": [
        "from afes import afe\n",
        "from pathlib import Path\n",
        "\n",
        "# Path to folder with files to be explored\n",
        "# files_path = Path(\"/path/to/your/files\")\n",
        "files_path = \"/content/sample_data\""
      ]
    },
    {
      "cell_type": "markdown",
      "metadata": {
        "id": "r1Qv8ROLfMJV"
      },
      "source": [
        "## Download additional datasets to explore\n",
        "\n",
        "Additional datasets downloaded from https://archive.ics.uci.edu"
      ]
    },
    {
      "cell_type": "code",
      "execution_count": 3,
      "metadata": {
        "id": "oJ-XwPsscbJB"
      },
      "outputs": [],
      "source": [
        "from ucimlrepo import fetch_ucirepo\n",
        "\n",
        "# https://archive.ics.uci.edu/dataset/9/auto+mpg\n",
        "# https://archive.ics.uci.edu/dataset/53/iris\n",
        "# https://archive.ics.uci.edu/dataset/186/wine+quality\n",
        "# https://archive.ics.uci.edu/dataset/19/car+evaluation\n",
        "\n",
        "# fetch datasets\n",
        "auto_mpg = fetch_ucirepo(id=9)\n",
        "iris = fetch_ucirepo(id=53)\n",
        "wine_quality = fetch_ucirepo(id=186)\n",
        "car_evaluation = fetch_ucirepo(id=19)\n",
        "\n",
        "# export datasets to csv\n",
        "auto_mpg[\"data\"].original.to_csv(files_path / \"auto_mpg.csv\", index=False)\n",
        "iris[\"data\"].original.to_csv(files_path / \"iris.csv\", index=False)\n",
        "wine_quality[\"data\"].original.to_csv(files_path / \"wine_quality.csv\", index=False)\n",
        "car_evaluation[\"data\"].original.to_csv(files_path / \"car_evaluation.csv\", index=False)"
      ]
    },
    {
      "cell_type": "markdown",
      "metadata": {
        "id": "jAwhOdPxXcR3"
      },
      "source": [
        "## Phase 1\n",
        "\n",
        "Reckon of the files. Generates a dataframe with a summary of the files\n",
        "\n",
        "The `reckon_phase` function will generate an Excel file with the results of the exploration called `files_explored.xlsx`."
      ]
    },
    {
      "cell_type": "code",
      "execution_count": null,
      "metadata": {
        "id": "jDVMkJK5TBZ1"
      },
      "outputs": [],
      "source": [
        "df_files = afe.explore(files_path)"
      ]
    },
    {
      "cell_type": "code",
      "execution_count": null,
      "metadata": {
        "id": "lxE08eKvWgqa"
      },
      "outputs": [],
      "source": [
        "# Summary of the files explored\n",
        "df_files"
      ]
    },
    {
      "cell_type": "code",
      "execution_count": 7,
      "metadata": {
        "id": "DHkDaWhZYfIh"
      },
      "outputs": [],
      "source": [
        "# drop mnist dataset\n",
        "df_files = df_files[\n",
        "    ~df_files[\"name\"].isin([\"mnist_test\", \"mnist_train_small\"])\n",
        "].reset_index(drop=True)"
      ]
    },
    {
      "cell_type": "code",
      "execution_count": null,
      "metadata": {
        "id": "biBIFJrUTq5W"
      },
      "outputs": [],
      "source": [
        "afe.generate(df_files)"
      ]
    },
    {
      "cell_type": "code",
      "execution_count": 9,
      "metadata": {
        "id": "VOWHDwyrWfAP"
      },
      "outputs": [],
      "source": [
        "# paste and run code from previous cell run"
      ]
    },
    {
      "cell_type": "code",
      "execution_count": null,
      "metadata": {
        "id": "uf-ViE6aWqHD"
      },
      "outputs": [],
      "source": []
    },
    {
      "cell_type": "markdown",
      "metadata": {
        "id": "mw6Cb8K1abBa"
      },
      "source": [
        "## Phase 2 Generate profiling reports"
      ]
    },
    {
      "cell_type": "code",
      "execution_count": null,
      "metadata": {
        "id": "q2ESkpFWWwXk"
      },
      "outputs": [],
      "source": [
        "afe.profile(df_files)"
      ]
    },
    {
      "cell_type": "code",
      "execution_count": null,
      "metadata": {
        "id": "3xcwyiyIWxLz"
      },
      "outputs": [],
      "source": [
        "afe.profile(df_files, profile_tool=\"sweetviz\")"
      ]
    }
  ],
  "metadata": {
    "colab": {
      "provenance": []
    },
    "kernelspec": {
      "display_name": "eda-V36nnFeJ",
      "language": "python",
      "name": "python3"
    },
    "language_info": {
      "codemirror_mode": {
        "name": "ipython",
        "version": 3
      },
      "file_extension": ".py",
      "mimetype": "text/x-python",
      "name": "python",
      "nbconvert_exporter": "python",
      "pygments_lexer": "ipython3",
      "version": "3.10.11"
    }
  },
  "nbformat": 4,
  "nbformat_minor": 0
}
